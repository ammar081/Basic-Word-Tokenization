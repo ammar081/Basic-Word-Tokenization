{
  "nbformat": 4,
  "nbformat_minor": 0,
  "metadata": {
    "colab": {
      "provenance": []
    },
    "kernelspec": {
      "name": "python3",
      "display_name": "Python 3"
    },
    "language_info": {
      "name": "python"
    }
  },
  "cells": [
    {
      "cell_type": "code",
      "execution_count": 1,
      "metadata": {
        "colab": {
          "base_uri": "https://localhost:8080/"
        },
        "id": "dhjpwyO4szsA",
        "outputId": "3cda499d-4597-4301-98b6-a5f13f9e0b90"
      },
      "outputs": [
        {
          "output_type": "stream",
          "name": "stdout",
          "text": [
            "Requirement already satisfied: nltk in /usr/local/lib/python3.10/dist-packages (3.8.1)\n",
            "Requirement already satisfied: click in /usr/local/lib/python3.10/dist-packages (from nltk) (8.1.7)\n",
            "Requirement already satisfied: joblib in /usr/local/lib/python3.10/dist-packages (from nltk) (1.4.2)\n",
            "Requirement already satisfied: regex>=2021.8.3 in /usr/local/lib/python3.10/dist-packages (from nltk) (2024.9.11)\n",
            "Requirement already satisfied: tqdm in /usr/local/lib/python3.10/dist-packages (from nltk) (4.66.6)\n"
          ]
        }
      ],
      "source": [
        "!pip install nltk\n"
      ]
    },
    {
      "cell_type": "code",
      "source": [
        "import nltk\n",
        "from nltk.tokenize import word_tokenize\n",
        "from nltk.probability import FreqDist\n"
      ],
      "metadata": {
        "id": "iwm1Z5w4tD3l"
      },
      "execution_count": 2,
      "outputs": []
    },
    {
      "cell_type": "code",
      "source": [
        "nltk.download('punkt')"
      ],
      "metadata": {
        "colab": {
          "base_uri": "https://localhost:8080/"
        },
        "id": "oB-svL4ntHo_",
        "outputId": "b4c3f904-94d5-45d5-c2ce-962d7438d136"
      },
      "execution_count": 3,
      "outputs": [
        {
          "output_type": "stream",
          "name": "stderr",
          "text": [
            "[nltk_data] Downloading package punkt to /root/nltk_data...\n",
            "[nltk_data]   Unzipping tokenizers/punkt.zip.\n"
          ]
        },
        {
          "output_type": "execute_result",
          "data": {
            "text/plain": [
              "True"
            ]
          },
          "metadata": {},
          "execution_count": 3
        }
      ]
    },
    {
      "cell_type": "code",
      "source": [
        "text = \"\"\"Technology has greatly evolved over the past few decades.\n",
        "From the invention of the personal computer to the rise of the internet,\n",
        "advancements in technology have transformed our lives.\n",
        "Artificial intelligence and machine learning are at the forefront of this evolution,\n",
        "promising to bring even more changes in the coming years.\"\"\"\n"
      ],
      "metadata": {
        "id": "D1ZweHJBtQB5"
      },
      "execution_count": 4,
      "outputs": []
    },
    {
      "cell_type": "code",
      "source": [
        "tokens = word_tokenize(text)\n",
        "print(\"Tokens:\", tokens)\n"
      ],
      "metadata": {
        "colab": {
          "base_uri": "https://localhost:8080/"
        },
        "id": "FcmG7dymtRWy",
        "outputId": "59e6da84-d28a-4ea5-f323-ad1c1fcb7120"
      },
      "execution_count": 5,
      "outputs": [
        {
          "output_type": "stream",
          "name": "stdout",
          "text": [
            "Tokens: ['Technology', 'has', 'greatly', 'evolved', 'over', 'the', 'past', 'few', 'decades', '.', 'From', 'the', 'invention', 'of', 'the', 'personal', 'computer', 'to', 'the', 'rise', 'of', 'the', 'internet', ',', 'advancements', 'in', 'technology', 'have', 'transformed', 'our', 'lives', '.', 'Artificial', 'intelligence', 'and', 'machine', 'learning', 'are', 'at', 'the', 'forefront', 'of', 'this', 'evolution', ',', 'promising', 'to', 'bring', 'even', 'more', 'changes', 'in', 'the', 'coming', 'years', '.']\n"
          ]
        }
      ]
    },
    {
      "cell_type": "code",
      "source": [
        "print(\"Number of tokens:\", len(tokens))\n"
      ],
      "metadata": {
        "colab": {
          "base_uri": "https://localhost:8080/"
        },
        "id": "E6LgO3GLtWPb",
        "outputId": "4509a2f4-3b21-4c62-83f2-903fe065d55b"
      },
      "execution_count": 6,
      "outputs": [
        {
          "output_type": "stream",
          "name": "stdout",
          "text": [
            "Number of tokens: 56\n"
          ]
        }
      ]
    },
    {
      "cell_type": "code",
      "source": [
        "freq_dist = FreqDist(tokens)\n",
        "print(\"Frequency of each token:\", freq_dist)\n"
      ],
      "metadata": {
        "colab": {
          "base_uri": "https://localhost:8080/"
        },
        "id": "JRNLaYJVtZHp",
        "outputId": "f3f60e46-1832-4475-cdfa-155117f8a005"
      },
      "execution_count": 7,
      "outputs": [
        {
          "output_type": "stream",
          "name": "stdout",
          "text": [
            "Frequency of each token: <FreqDist with 43 samples and 56 outcomes>\n"
          ]
        }
      ]
    },
    {
      "cell_type": "code",
      "source": [
        "freq_dist.plot(10, title=\"Top 10 Most Frequent Tokens\")\n"
      ],
      "metadata": {
        "colab": {
          "base_uri": "https://localhost:8080/",
          "height": 552
        },
        "id": "4IW7uXnotbkl",
        "outputId": "5b10d77c-aad0-422d-dad9-26fa83e650a3"
      },
      "execution_count": 8,
      "outputs": [
        {
          "output_type": "display_data",
          "data": {
            "text/plain": [
              "<Figure size 640x480 with 1 Axes>"
            ],
            "image/png": "[encoded data removed]"
          },
          "metadata": {}
        },
        {
          "output_type": "execute_result",
          "data": {
            "text/plain": [
              "<Axes: title={'center': 'Top 10 Most Frequent Tokens'}, xlabel='Samples', ylabel='Counts'>"
            ]
          },
          "metadata": {},
          "execution_count": 8
        }
      ]
    }
  ]
}